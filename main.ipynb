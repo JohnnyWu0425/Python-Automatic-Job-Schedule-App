{
 "cells": [
  {
   "cell_type": "markdown",
   "metadata": {},
   "source": [
    "# Import Module"
   ]
  },
  {
   "cell_type": "code",
   "execution_count": 1,
   "metadata": {},
   "outputs": [],
   "source": [
    "import pandas as pd\n",
    "import numpy as np\n",
    "import time\n",
    "import math\n",
    "import calendar\n",
    "import datetime"
   ]
  },
  {
   "cell_type": "markdown",
   "metadata": {},
   "source": [
    "# User Input"
   ]
  },
  {
   "cell_type": "code",
   "execution_count": 2,
   "metadata": {},
   "outputs": [
    {
     "name": "stdout",
     "output_type": "stream",
     "text": [
      "請輸入班表年份 (e.g. 2019) : 2019\n",
      "再次確認，年份為 2019 ? (y/n)y\n",
      "年份已輸入\n",
      "\n",
      "請輸入班表月份 (e.g. 5) : 5\n",
      "再次確認，月份為 5 ? (y/n)y\n",
      "月份已輸入\n",
      "\n",
      "請輸入班別人數 (e.g. 15) : 10y\n",
      "很抱歉 ! 班別人數必須為數字，例如:15，請重新輸入\n",
      "請輸入班別人數 (e.g. 15) : 10\n",
      "再次確認，班別人數為 10 ? (y/n)y\n",
      "班別人數已輸入\n",
      "\n"
     ]
    }
   ],
   "source": [
    "# 年份\n",
    "while True:\n",
    "    # 是否輸入完成的 flag\n",
    "    finish = False\n",
    "    \n",
    "    year = input(\"請輸入班表年份 (e.g. 2019) : \")\n",
    "    \n",
    "    if year.isdigit() == False:\n",
    "        print(\"很抱歉 ! 年份必須為數字，例如:2019，請重新輸入\")\n",
    "        continue\n",
    "        \n",
    "    else:\n",
    "        \n",
    "        while True:\n",
    "            \n",
    "            check = input(\"再次確認，年份為 {} ? (y/n)\".format(year))\n",
    "            \n",
    "            if check == \"y\" or check == \"Y\" or check == \"yes\" or check == \"YES\" or check == \"Yes\":\n",
    "                print(\"年份已輸入\")\n",
    "                year = int(year)\n",
    "                finish=True\n",
    "                break\n",
    "                \n",
    "            elif check == \"n\" or check == \"N\" or check == \"no\" or check == \"NO\" or check == \"No\":\n",
    "                print(\"請重新輸入年份\")\n",
    "                finish=False\n",
    "                break\n",
    "                \n",
    "            else:\n",
    "                print(\"很抱歉 ! 請輸入 \\\"y\\\" or \\\"n\\\" !\")\n",
    "    \n",
    "    if finish == True:\n",
    "        break\n",
    "\n",
    "print()\n",
    "\n",
    "# 月份\n",
    "while True:\n",
    "    # 是否輸入完成的 flag\n",
    "    finish = False\n",
    "    \n",
    "    month = input(\"請輸入班表月份 (e.g. 5) : \")\n",
    "    \n",
    "    if month.isdigit() == False:\n",
    "        print(\"很抱歉 ! 月份必須為數字，例如:5，請重新輸入\")\n",
    "        continue\n",
    "        \n",
    "    else:\n",
    "        \n",
    "        while True:\n",
    "            \n",
    "            check = input(\"再次確認，月份為 {} ? (y/n)\".format(month))\n",
    "            \n",
    "            if check == \"y\" or check == \"Y\" or check == \"yes\" or check == \"YES\" or check == \"Yes\":\n",
    "                print(\"月份已輸入\")\n",
    "                month = int(month)\n",
    "                finish=True\n",
    "                break\n",
    "                \n",
    "            elif check == \"n\" or check == \"N\" or check == \"no\" or check == \"NO\" or check == \"No\":\n",
    "                print(\"請重新輸入月份\")\n",
    "                finish=False\n",
    "                break\n",
    "                \n",
    "            else:\n",
    "                print(\"很抱歉 ! 請輸入 \\\"y\\\" or \\\"n\\\" !\")\n",
    "    \n",
    "    if finish == True:\n",
    "        break\n",
    "        \n",
    "print()\n",
    "        \n",
    "# 班別人數\n",
    "while True:\n",
    "    # 是否輸入完成的 flag\n",
    "    finish = False\n",
    "    \n",
    "    num_employee = input(\"請輸入班別人數 (e.g. 15) : \")\n",
    "    \n",
    "    if num_employee.isdigit() == False:\n",
    "        print(\"很抱歉 ! 班別人數必須為數字，例如:15，請重新輸入\")\n",
    "        continue\n",
    "        \n",
    "    else:\n",
    "        \n",
    "        while True:\n",
    "            \n",
    "            check = input(\"再次確認，班別人數為 {} ? (y/n)\".format(num_employee))\n",
    "            \n",
    "            if check == \"y\" or check == \"Y\" or check == \"yes\" or check == \"YES\" or check == \"Yes\":\n",
    "                print(\"班別人數已輸入\")\n",
    "                num_employee = int(num_employee)\n",
    "                finish=True\n",
    "                break\n",
    "                \n",
    "            elif check == \"n\" or check == \"N\" or check == \"no\" or check == \"NO\" or check == \"No\":\n",
    "                print(\"請重新輸入班別人數\")\n",
    "                finish=False\n",
    "                break\n",
    "                \n",
    "            else:\n",
    "                print(\"很抱歉 ! 請輸入 \\\"y\\\" or \\\"n\\\" !\")\n",
    "    \n",
    "    if finish == True:\n",
    "        break\n",
    "        \n",
    "print()"
   ]
  },
  {
   "cell_type": "markdown",
   "metadata": {},
   "source": [
    "# Set the Limit of Job Schedule"
   ]
  },
  {
   "cell_type": "code",
   "execution_count": 3,
   "metadata": {},
   "outputs": [
    {
     "name": "stdout",
     "output_type": "stream",
     "text": [
      "初始資料設定中，請稍後\n",
      "初始資料設定完成\n",
      "\n",
      "年份 :  2019  年\n",
      "月份 :  5  月\n",
      "班別人數 :  10  人\n",
      "平日上班人數至少 6 人\n",
      "假日上班人數至少 5 人\n",
      "\n"
     ]
    }
   ],
   "source": [
    "print(\"初始資料設定中，請稍後\")\n",
    "time.sleep(1.5)\n",
    "print(\"初始資料設定完成\")\n",
    "print()\n",
    "print(\"年份 : \",year,\" 年\")\n",
    "print(\"月份 : \",month,\" 月\")\n",
    "print(\"班別人數 : \",num_employee,\" 人\")\n",
    "print(\"平日上班人數至少 {} 人\".format(math.floor(num_employee*(2/3))))\n",
    "weekday_limit = math.floor(num_employee*(2/3))\n",
    "print(\"假日上班人數至少 {} 人\".format(math.floor(num_employee*(1/2))))\n",
    "weekend_limit = math.floor(num_employee*(1/2))\n",
    "print()"
   ]
  },
  {
   "cell_type": "markdown",
   "metadata": {},
   "source": [
    "# Set the Calender"
   ]
  },
  {
   "cell_type": "code",
   "execution_count": 4,
   "metadata": {},
   "outputs": [],
   "source": [
    "# 這個月的每一天日期(int)\n",
    "date_in_month = [x for x in range(1,(calendar.monthrange(year,month)[1])+1)]\n",
    "\n",
    "# 這個月的每一天星期(str)\n",
    "day_in_month = []\n",
    "for date in date_in_month:\n",
    "    x = datetime.datetime(year,month,date)\n",
    "    day_in_month.append(x.strftime(\"%A\"))\n",
    "    \n",
    "# 這個班別的每一個人(str)\n",
    "person_in_employee = [str(x) for x in range(1,num_employee+1)]\n",
    "\n",
    "# 這個月的工作表(int)\n",
    "job_schedule = np.ones([num_employee,len(date_in_month)])"
   ]
  },
  {
   "cell_type": "markdown",
   "metadata": {},
   "source": [
    "# Job Schedule"
   ]
  },
  {
   "cell_type": "markdown",
   "metadata": {},
   "source": [
    "### check_person_vacation Function"
   ]
  },
  {
   "cell_type": "code",
   "execution_count": 5,
   "metadata": {},
   "outputs": [],
   "source": [
    "# 檢查這個人這個月已經休假幾天了\n",
    "def check_person_vacation(job_schedule, person):\n",
    "    count = 0\n",
    "    for i in range(0,len(date_in_month)):\n",
    "        if job_schedule[person][i]==0:\n",
    "            count += 1\n",
    "    return count"
   ]
  },
  {
   "cell_type": "markdown",
   "metadata": {},
   "source": [
    "### reamain_person Function"
   ]
  },
  {
   "cell_type": "code",
   "execution_count": 6,
   "metadata": {},
   "outputs": [],
   "source": [
    "# 計算今天如果再少一個人上班，還剩下多少人\n",
    "def remain_person(job_schedule ,date):\n",
    "    count = 0\n",
    "    for i in range(0,num_employee):\n",
    "        if job_schedule[i][date] == 1:\n",
    "            count += 1\n",
    "    return (count-1)"
   ]
  },
  {
   "cell_type": "markdown",
   "metadata": {},
   "source": [
    "### check_weekday Function"
   ]
  },
  {
   "cell_type": "code",
   "execution_count": 7,
   "metadata": {},
   "outputs": [],
   "source": [
    "# 檢查今天是否為平日\n",
    "def check_weekday(date):\n",
    "    if day_in_month[date] == \"Saturday\" or day_in_month[date] == \"Sunday\":\n",
    "        return False\n",
    "    else:\n",
    "        return True"
   ]
  },
  {
   "cell_type": "markdown",
   "metadata": {},
   "source": [
    "### check_can_vacation Function"
   ]
  },
  {
   "cell_type": "code",
   "execution_count": 8,
   "metadata": {},
   "outputs": [],
   "source": [
    "# 檢查今天如果再少一個人上班可以嗎\n",
    "def check_can_vacation(job_schedule, date):\n",
    "    \n",
    "    # 檢查今天是平日還假日\n",
    "    # 若為平日\n",
    "    if check_weekday(date) == True:    \n",
    "        # 檢查這個人休假後今天剩餘的上班人數是否符合平日標準\n",
    "        if remain_person(job_schedule, date) >= weekday_limit:\n",
    "            return True\n",
    "        else:\n",
    "            return False\n",
    "    else:\n",
    "        # 檢查這個人休假後今天剩餘的上班人數是否符合假日標準\n",
    "        if remain_person(job_schedule, date) >= weekend_limit:\n",
    "            return True\n",
    "        else:\n",
    "            return False"
   ]
  },
  {
   "cell_type": "markdown",
   "metadata": {},
   "source": [
    "### Decision for Work or Vacation"
   ]
  },
  {
   "cell_type": "code",
   "execution_count": 9,
   "metadata": {},
   "outputs": [],
   "source": [
    "# 排這個 person 的班\n",
    "for person in range(0,num_employee):\n",
    "    date = 0\n",
    "    \n",
    "    # 排這個 date 的班\n",
    "    while date < len(date_in_month):\n",
    "        \n",
    "                \n",
    "        # 檢查這個人如果今天不上班有沒有符合限制\n",
    "        # 檢查這個人今天可不可以休假\n",
    "        if check_can_vacation(job_schedule, date) == True:\n",
    "            \n",
    "            # 確定此人今天可休假後\n",
    "            # 必須考慮此人這個月休假天數已經多少天了\n",
    "            if check_person_vacation(job_schedule ,person) >=8:\n",
    "                # 休假天數已經有8天則不可以在休假\n",
    "                job_schedule[person][date]=1\n",
    "                date += 1\n",
    "            \n",
    "            else:\n",
    "                # 若可以休假則必須連續兩天\n",
    "                job_schedule[person][date]=0\n",
    "                \n",
    "                if (date+1)<len(date_in_month):\n",
    "                    job_schedule[person][date+1]=0\n",
    "                    \n",
    "                # 希望每次休假完都能工作5天\n",
    "                date += 7\n",
    "                \n",
    "        \n",
    "        # 若這個人今天沒上班則今天上班人數過少\n",
    "        # 這個人今天不可以休假\n",
    "        else:\n",
    "            job_schedule[person][date]=1\n",
    "            date += 1"
   ]
  },
  {
   "cell_type": "markdown",
   "metadata": {},
   "source": [
    "# Convert to Dataframe"
   ]
  },
  {
   "cell_type": "code",
   "execution_count": 10,
   "metadata": {},
   "outputs": [],
   "source": [
    "# numpy 2d array 可以直接轉成 dataframe\n",
    "df = pd.DataFrame(job_schedule)\n",
    "df.columns = date_in_month\n",
    "df.loc[-1] = day_in_month\n",
    "df.index = df.index + 1\n",
    "df = df.sort_index()\n",
    "pd.options.display.max_columns = None"
   ]
  },
  {
   "cell_type": "code",
   "execution_count": 11,
   "metadata": {},
   "outputs": [],
   "source": [
    "# 增加休假天數的 column\n",
    "vacation_list = list((df[1:]==0).sum(1))\n",
    "vacation_list.insert(0,\"None\")\n",
    "df[\"休假天數\"] = vacation_list"
   ]
  },
  {
   "cell_type": "code",
   "execution_count": 12,
   "metadata": {},
   "outputs": [],
   "source": [
    "# 增加安全人數的 row\n",
    "safe_num_list=[]\n",
    "\n",
    "for item in day_in_month:\n",
    "    if item == 'Saturday' or item == 'Sunday':\n",
    "        safe_num_list.append(weekend_limit)\n",
    "    else:\n",
    "        safe_num_list.append(weekday_limit)\n",
    "        \n",
    "safe_num_list.append(\"None\")\n",
    "        \n",
    "df.loc[len(df)]=safe_num_list"
   ]
  },
  {
   "cell_type": "code",
   "execution_count": 13,
   "metadata": {},
   "outputs": [],
   "source": [
    "# 增加上班人數的 row\n",
    "job_num_list = list((df.iloc[1:len(df)-1, 0:len(df.columns)-1]==1).sum())\n",
    "job_num_list.append(\"None\")\n",
    "df.loc[len(df)]=job_num_list"
   ]
  },
  {
   "cell_type": "code",
   "execution_count": 14,
   "metadata": {},
   "outputs": [],
   "source": [
    "# 插入新的 index column\n",
    "index_col = [\"星期\"]\n",
    "\n",
    "for i in range(0,num_employee):\n",
    "    index_col.append(\"第 {} 員工\".format(i+1))\n",
    "    \n",
    "index_col.append(\"安全人數\")\n",
    "index_col.append(\"實際人數\")\n",
    "\n",
    "df.insert(0,\"0\",index_col,True)"
   ]
  },
  {
   "cell_type": "code",
   "execution_count": 15,
   "metadata": {},
   "outputs": [],
   "source": [
    "# 將所有數字 1 -> 上班轉成 numpy NaN\n",
    "df.iloc[1:num_employee+1,1:len(date_in_month)+1]=df.iloc[1:num_employee+1,1:len(date_in_month)+1].replace(0,\"休假\")\n",
    "df.iloc[1:num_employee+1,1:len(date_in_month)+1]=df.iloc[1:num_employee+1,1:len(date_in_month)+1].replace(1,np.nan)"
   ]
  },
  {
   "cell_type": "code",
   "execution_count": 17,
   "metadata": {
    "scrolled": true
   },
   "outputs": [
    {
     "name": "stdout",
     "output_type": "stream",
     "text": [
      "請輸入文件名 : TEST\n"
     ]
    }
   ],
   "source": [
    "filename = input(\"請輸入文件名 : \")\n",
    "df.to_excel(\"{}.xlsx\".format(filename))"
   ]
  },
  {
   "cell_type": "code",
   "execution_count": 18,
   "metadata": {},
   "outputs": [
    {
     "name": "stdout",
     "output_type": "stream",
     "text": [
      "Gogoro Job Schedule.xls 已被建立，請查看程式資料夾\n",
      "按下 enter 後結束程式...\n"
     ]
    },
    {
     "data": {
      "text/plain": [
       "''"
      ]
     },
     "execution_count": 18,
     "metadata": {},
     "output_type": "execute_result"
    }
   ],
   "source": [
    "print(\"{}.xlsx 已被建立，請查看程式資料夾\".format(filename))\n",
    "input(\"按下 enter 後結束程式...\")"
   ]
  }
 ],
 "metadata": {
  "kernelspec": {
   "display_name": "Python 3",
   "language": "python",
   "name": "python3"
  },
  "language_info": {
   "codemirror_mode": {
    "name": "ipython",
    "version": 3
   },
   "file_extension": ".py",
   "mimetype": "text/x-python",
   "name": "python",
   "nbconvert_exporter": "python",
   "pygments_lexer": "ipython3",
   "version": "3.6.8"
  }
 },
 "nbformat": 4,
 "nbformat_minor": 2
}
